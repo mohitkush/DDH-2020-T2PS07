{
 "cells": [
  {
   "cell_type": "code",
   "execution_count": 5,
   "metadata": {},
   "outputs": [],
   "source": [
    "import requests\n",
    "import json\n",
    "import pandas as pd"
   ]
  },
  {
   "cell_type": "code",
   "execution_count": 6,
   "metadata": {},
   "outputs": [],
   "source": [
    "min_rnk = [1,1001,2001,3001,4001]\n",
    "max_rnk = [1000,2000,3000,4000,5000]"
   ]
  },
  {
   "cell_type": "code",
   "execution_count": 7,
   "metadata": {},
   "outputs": [
    {
     "name": "stdout",
     "output_type": "stream",
     "text": [
      "https://clinicaltrials.gov/api/query/study_fields?expr=COVID-19&min_rnk=1&max_rnk=1000&fmt=json&fields=Phase,BriefTitle,InterventionMeshId,InterventionName,InterventionType,LastKnownStatus,OfficialTitle,OutcomeAnalysisStatisticalMethod,OutcomeMeasureTimeFrame,SecondaryOutcomeMeasure,StartDate,StudyFirstPostDate,StudyFirstPostDateType,StudyFirstSubmitDate,StudyFirstSubmitQCDate,StudyPopulation,StudyType,WhyStopped\n",
      "https://clinicaltrials.gov/api/query/study_fields?expr=COVID-19&min_rnk=1001&max_rnk=2000&fmt=json&fields=Phase,BriefTitle,InterventionMeshId,InterventionName,InterventionType,LastKnownStatus,OfficialTitle,OutcomeAnalysisStatisticalMethod,OutcomeMeasureTimeFrame,SecondaryOutcomeMeasure,StartDate,StudyFirstPostDate,StudyFirstPostDateType,StudyFirstSubmitDate,StudyFirstSubmitQCDate,StudyPopulation,StudyType,WhyStopped\n",
      "https://clinicaltrials.gov/api/query/study_fields?expr=COVID-19&min_rnk=2001&max_rnk=3000&fmt=json&fields=Phase,BriefTitle,InterventionMeshId,InterventionName,InterventionType,LastKnownStatus,OfficialTitle,OutcomeAnalysisStatisticalMethod,OutcomeMeasureTimeFrame,SecondaryOutcomeMeasure,StartDate,StudyFirstPostDate,StudyFirstPostDateType,StudyFirstSubmitDate,StudyFirstSubmitQCDate,StudyPopulation,StudyType,WhyStopped\n",
      "https://clinicaltrials.gov/api/query/study_fields?expr=COVID-19&min_rnk=3001&max_rnk=4000&fmt=json&fields=Phase,BriefTitle,InterventionMeshId,InterventionName,InterventionType,LastKnownStatus,OfficialTitle,OutcomeAnalysisStatisticalMethod,OutcomeMeasureTimeFrame,SecondaryOutcomeMeasure,StartDate,StudyFirstPostDate,StudyFirstPostDateType,StudyFirstSubmitDate,StudyFirstSubmitQCDate,StudyPopulation,StudyType,WhyStopped\n",
      "https://clinicaltrials.gov/api/query/study_fields?expr=COVID-19&min_rnk=4001&max_rnk=5000&fmt=json&fields=Phase,BriefTitle,InterventionMeshId,InterventionName,InterventionType,LastKnownStatus,OfficialTitle,OutcomeAnalysisStatisticalMethod,OutcomeMeasureTimeFrame,SecondaryOutcomeMeasure,StartDate,StudyFirstPostDate,StudyFirstPostDateType,StudyFirstSubmitDate,StudyFirstSubmitQCDate,StudyPopulation,StudyType,WhyStopped\n",
      "end of resuts\n"
     ]
    }
   ],
   "source": [
    "cdc_extract_fields = [\n",
    "        'Phase',\n",
    "        'BriefTitle',\n",
    "        'InterventionMeshId',\n",
    "        'InterventionName',\n",
    "        'InterventionType',\n",
    "        'LastKnownStatus',\n",
    "        'OfficialTitle',\n",
    "        'OutcomeAnalysisStatisticalMethod',\n",
    "        'OutcomeMeasureTimeFrame',\n",
    "        'SecondaryOutcomeMeasure',\n",
    "        'StartDate',\n",
    "        'StudyFirstPostDate',\n",
    "        'StudyFirstPostDateType',\n",
    "        'StudyFirstSubmitDate',\n",
    "        'StudyFirstSubmitQCDate',\n",
    "        'StudyPopulation',\n",
    "        'StudyType',\n",
    "        'WhyStopped'\n",
    "    ]\n",
    "\n",
    "results = pd.DataFrame(columns=cdc_extract_fields)\n",
    "\n",
    "for i in range(0,len(min_rnk)):\n",
    "    CDC_BASE_URL = 'https://clinicaltrials.gov/api/query/study_fields?expr=COVID-19&min_rnk='+str(min_rnk[i])+'&max_rnk='+str(max_rnk[i])+'&fmt=json'\n",
    "    query_url = f'{CDC_BASE_URL}&fields={\",\".join(cdc_extract_fields)}'\n",
    "    print(query_url)\n",
    "    r = requests.get(query_url)\n",
    "    r.status_code\n",
    "    j = json.loads(r.content)\n",
    "    try:\n",
    "        df = pd.DataFrame(j['StudyFieldsResponse']['StudyFields'])\n",
    "        results = results.append(df)\n",
    "    except KeyError:\n",
    "        print(\"end of resuts\")\n",
    "    \n",
    "\n",
    "results.to_csv(r\"C:\\Users\\hp\\Desktop\\clinicaltrials.csv\", index=False)"
   ]
  },
  {
   "cell_type": "code",
   "execution_count": 4,
   "metadata": {},
   "outputs": [
    {
     "ename": "ModuleNotFoundError",
     "evalue": "No module named 'mysqlclient'",
     "output_type": "error",
     "traceback": [
      "\u001b[1;31m---------------------------------------------------------------------------\u001b[0m",
      "\u001b[1;31mModuleNotFoundError\u001b[0m                       Traceback (most recent call last)",
      "\u001b[1;32m<ipython-input-4-1b8849250f3c>\u001b[0m in \u001b[0;36m<module>\u001b[1;34m\u001b[0m\n\u001b[1;32m----> 1\u001b[1;33m \u001b[1;32mimport\u001b[0m \u001b[0mmysqlclient\u001b[0m\u001b[1;33m\u001b[0m\u001b[1;33m\u001b[0m\u001b[0m\n\u001b[0m",
      "\u001b[1;31mModuleNotFoundError\u001b[0m: No module named 'mysqlclient'"
     ]
    }
   ],
   "source": [
    "import mysqlclient"
   ]
  },
  {
   "cell_type": "code",
   "execution_count": null,
   "metadata": {
    "scrolled": false
   },
   "outputs": [],
   "source": []
  },
  {
   "cell_type": "code",
   "execution_count": null,
   "metadata": {},
   "outputs": [],
   "source": []
  },
  {
   "cell_type": "code",
   "execution_count": null,
   "metadata": {},
   "outputs": [],
   "source": [
    "\n"
   ]
  },
  {
   "cell_type": "code",
   "execution_count": null,
   "metadata": {},
   "outputs": [],
   "source": []
  },
  {
   "cell_type": "code",
   "execution_count": null,
   "metadata": {},
   "outputs": [],
   "source": []
  },
  {
   "cell_type": "code",
   "execution_count": null,
   "metadata": {
    "scrolled": true
   },
   "outputs": [],
   "source": []
  },
  {
   "cell_type": "code",
   "execution_count": null,
   "metadata": {},
   "outputs": [],
   "source": []
  },
  {
   "cell_type": "code",
   "execution_count": null,
   "metadata": {
    "scrolled": true
   },
   "outputs": [],
   "source": []
  },
  {
   "cell_type": "code",
   "execution_count": null,
   "metadata": {},
   "outputs": [],
   "source": []
  }
 ],
 "metadata": {
  "kernelspec": {
   "display_name": "Python 3",
   "language": "python",
   "name": "python3"
  },
  "language_info": {
   "codemirror_mode": {
    "name": "ipython",
    "version": 3
   },
   "file_extension": ".py",
   "mimetype": "text/x-python",
   "name": "python",
   "nbconvert_exporter": "python",
   "pygments_lexer": "ipython3",
   "version": "3.8.6"
  }
 },
 "nbformat": 4,
 "nbformat_minor": 4
}
