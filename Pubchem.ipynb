{
 "cells": [
  {
   "cell_type": "code",
   "execution_count": 2,
   "metadata": {},
   "outputs": [],
   "source": [
    "import requests\n",
    "import json\n",
    "import pandas as pd"
   ]
  },
  {
   "cell_type": "code",
   "execution_count": 6,
   "metadata": {},
   "outputs": [],
   "source": [
    "names = [\"Remdesivir\",\"Chloroquine\",\"Ritonavir\",\"Favipiravir\"]\n",
    "properties = \"MolecularWeight,MolecularFormula,HBondDonorCount,HBondAcceptorCount,InChIKey,InChI,CanonicalSMILES,IsomericSMILES\""
   ]
  },
  {
   "cell_type": "code",
   "execution_count": 19,
   "metadata": {},
   "outputs": [
    {
     "name": "stdout",
     "output_type": "stream",
     "text": [
      "https://pubchem.ncbi.nlm.nih.gov/rest/pug/compound/name/Remdesivir/property/MolecularWeight,MolecularFormula,HBondDonorCount,HBondAcceptorCount,InChIKey,InChI,CanonicalSMILES,IsomericSMILES/JSON\n",
      "200\n",
      "https://pubchem.ncbi.nlm.nih.gov/rest/pug/compound/name/Chloroquine/property/MolecularWeight,MolecularFormula,HBondDonorCount,HBondAcceptorCount,InChIKey,InChI,CanonicalSMILES,IsomericSMILES/JSON\n",
      "200\n",
      "https://pubchem.ncbi.nlm.nih.gov/rest/pug/compound/name/Ritonavir/property/MolecularWeight,MolecularFormula,HBondDonorCount,HBondAcceptorCount,InChIKey,InChI,CanonicalSMILES,IsomericSMILES/JSON\n",
      "200\n",
      "https://pubchem.ncbi.nlm.nih.gov/rest/pug/compound/name/Favipiravir/property/MolecularWeight,MolecularFormula,HBondDonorCount,HBondAcceptorCount,InChIKey,InChI,CanonicalSMILES,IsomericSMILES/JSON\n",
      "200\n"
     ]
    }
   ],
   "source": [
    "results = pd.DataFrame(columns=properties.split(\",\"))\n",
    "for name in names:\n",
    "    base_url = \"https://pubchem.ncbi.nlm.nih.gov/rest/pug/compound/name/\"+str(name)+\"/property/\"+str(properties)+\"/JSON\"\n",
    "    print(base_url)\n",
    "    r = requests.get(base_url)\n",
    "    print(r.status_code)\n",
    "    j = json.loads(r.content)\n",
    "    df = pd.DataFrame(j['PropertyTable']['Properties'])\n",
    "    results = results.append(df)\n",
    "results['Compound name']=names"
   ]
  },
  {
   "cell_type": "code",
   "execution_count": 20,
   "metadata": {},
   "outputs": [
    {
     "data": {
      "text/html": [
       "<div>\n",
       "<style scoped>\n",
       "    .dataframe tbody tr th:only-of-type {\n",
       "        vertical-align: middle;\n",
       "    }\n",
       "\n",
       "    .dataframe tbody tr th {\n",
       "        vertical-align: top;\n",
       "    }\n",
       "\n",
       "    .dataframe thead th {\n",
       "        text-align: right;\n",
       "    }\n",
       "</style>\n",
       "<table border=\"1\" class=\"dataframe\">\n",
       "  <thead>\n",
       "    <tr style=\"text-align: right;\">\n",
       "      <th></th>\n",
       "      <th>MolecularWeight</th>\n",
       "      <th>MolecularFormula</th>\n",
       "      <th>HBondDonorCount</th>\n",
       "      <th>HBondAcceptorCount</th>\n",
       "      <th>InChIKey</th>\n",
       "      <th>InChI</th>\n",
       "      <th>CanonicalSMILES</th>\n",
       "      <th>IsomericSMILES</th>\n",
       "      <th>CID</th>\n",
       "      <th>Compound name</th>\n",
       "    </tr>\n",
       "  </thead>\n",
       "  <tbody>\n",
       "    <tr>\n",
       "      <th>0</th>\n",
       "      <td>602.6</td>\n",
       "      <td>C27H35N6O8P</td>\n",
       "      <td>4</td>\n",
       "      <td>13</td>\n",
       "      <td>RWWYLEGWBNMMLJ-YSOARWBDSA-N</td>\n",
       "      <td>InChI=1S/C27H35N6O8P/c1-4-18(5-2)13-38-26(36)1...</td>\n",
       "      <td>CCC(CC)COC(=O)C(C)NP(=O)(OCC1C(C(C(O1)(C#N)C2=...</td>\n",
       "      <td>CCC(CC)COC(=O)[C@H](C)N[P@](=O)(OC[C@@H]1[C@H]...</td>\n",
       "      <td>121304016.0</td>\n",
       "      <td>Remdesivir</td>\n",
       "    </tr>\n",
       "    <tr>\n",
       "      <th>0</th>\n",
       "      <td>319.9</td>\n",
       "      <td>C18H26ClN3</td>\n",
       "      <td>1</td>\n",
       "      <td>3</td>\n",
       "      <td>WHTVZRBIWZFKQO-UHFFFAOYSA-N</td>\n",
       "      <td>InChI=1S/C18H26ClN3/c1-4-22(5-2)12-6-7-14(3)21...</td>\n",
       "      <td>CCN(CC)CCCC(C)NC1=C2C=CC(=CC2=NC=C1)Cl</td>\n",
       "      <td>CCN(CC)CCCC(C)NC1=C2C=CC(=CC2=NC=C1)Cl</td>\n",
       "      <td>2719.0</td>\n",
       "      <td>Chloroquine</td>\n",
       "    </tr>\n",
       "    <tr>\n",
       "      <th>0</th>\n",
       "      <td>720.9</td>\n",
       "      <td>C37H48N6O5S2</td>\n",
       "      <td>4</td>\n",
       "      <td>9</td>\n",
       "      <td>NCDNCNXCDXHOMX-XGKFQTDJSA-N</td>\n",
       "      <td>InChI=1S/C37H48N6O5S2/c1-24(2)33(42-36(46)43(5...</td>\n",
       "      <td>CC(C)C1=NC(=CS1)CN(C)C(=O)NC(C(C)C)C(=O)NC(CC2...</td>\n",
       "      <td>CC(C)C1=NC(=CS1)CN(C)C(=O)N[C@@H](C(C)C)C(=O)N...</td>\n",
       "      <td>392622.0</td>\n",
       "      <td>Ritonavir</td>\n",
       "    </tr>\n",
       "    <tr>\n",
       "      <th>0</th>\n",
       "      <td>157.1</td>\n",
       "      <td>C5H4FN3O2</td>\n",
       "      <td>2</td>\n",
       "      <td>4</td>\n",
       "      <td>ZCGNOVWYSGBHAU-UHFFFAOYSA-N</td>\n",
       "      <td>InChI=1S/C5H4FN3O2/c6-2-1-8-5(11)3(9-2)4(7)10/...</td>\n",
       "      <td>C1=C(N=C(C(=O)N1)C(=O)N)F</td>\n",
       "      <td>C1=C(N=C(C(=O)N1)C(=O)N)F</td>\n",
       "      <td>492405.0</td>\n",
       "      <td>Favipiravir</td>\n",
       "    </tr>\n",
       "  </tbody>\n",
       "</table>\n",
       "</div>"
      ],
      "text/plain": [
       "   MolecularWeight MolecularFormula HBondDonorCount HBondAcceptorCount  \\\n",
       "0            602.6      C27H35N6O8P               4                 13   \n",
       "0            319.9       C18H26ClN3               1                  3   \n",
       "0            720.9     C37H48N6O5S2               4                  9   \n",
       "0            157.1        C5H4FN3O2               2                  4   \n",
       "\n",
       "                      InChIKey  \\\n",
       "0  RWWYLEGWBNMMLJ-YSOARWBDSA-N   \n",
       "0  WHTVZRBIWZFKQO-UHFFFAOYSA-N   \n",
       "0  NCDNCNXCDXHOMX-XGKFQTDJSA-N   \n",
       "0  ZCGNOVWYSGBHAU-UHFFFAOYSA-N   \n",
       "\n",
       "                                               InChI  \\\n",
       "0  InChI=1S/C27H35N6O8P/c1-4-18(5-2)13-38-26(36)1...   \n",
       "0  InChI=1S/C18H26ClN3/c1-4-22(5-2)12-6-7-14(3)21...   \n",
       "0  InChI=1S/C37H48N6O5S2/c1-24(2)33(42-36(46)43(5...   \n",
       "0  InChI=1S/C5H4FN3O2/c6-2-1-8-5(11)3(9-2)4(7)10/...   \n",
       "\n",
       "                                     CanonicalSMILES  \\\n",
       "0  CCC(CC)COC(=O)C(C)NP(=O)(OCC1C(C(C(O1)(C#N)C2=...   \n",
       "0             CCN(CC)CCCC(C)NC1=C2C=CC(=CC2=NC=C1)Cl   \n",
       "0  CC(C)C1=NC(=CS1)CN(C)C(=O)NC(C(C)C)C(=O)NC(CC2...   \n",
       "0                          C1=C(N=C(C(=O)N1)C(=O)N)F   \n",
       "\n",
       "                                      IsomericSMILES          CID  \\\n",
       "0  CCC(CC)COC(=O)[C@H](C)N[P@](=O)(OC[C@@H]1[C@H]...  121304016.0   \n",
       "0             CCN(CC)CCCC(C)NC1=C2C=CC(=CC2=NC=C1)Cl       2719.0   \n",
       "0  CC(C)C1=NC(=CS1)CN(C)C(=O)N[C@@H](C(C)C)C(=O)N...     392622.0   \n",
       "0                          C1=C(N=C(C(=O)N1)C(=O)N)F     492405.0   \n",
       "\n",
       "  Compound name  \n",
       "0    Remdesivir  \n",
       "0   Chloroquine  \n",
       "0     Ritonavir  \n",
       "0   Favipiravir  "
      ]
     },
     "execution_count": 20,
     "metadata": {},
     "output_type": "execute_result"
    }
   ],
   "source": [
    "results"
   ]
  },
  {
   "cell_type": "code",
   "execution_count": null,
   "metadata": {},
   "outputs": [],
   "source": []
  }
 ],
 "metadata": {
  "kernelspec": {
   "display_name": "Python 3",
   "language": "python",
   "name": "python3"
  },
  "language_info": {
   "codemirror_mode": {
    "name": "ipython",
    "version": 3
   },
   "file_extension": ".py",
   "mimetype": "text/x-python",
   "name": "python",
   "nbconvert_exporter": "python",
   "pygments_lexer": "ipython3",
   "version": "3.8.6"
  }
 },
 "nbformat": 4,
 "nbformat_minor": 4
}
