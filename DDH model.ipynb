{
 "cells": [
  {
   "cell_type": "code",
   "execution_count": 1,
   "metadata": {},
   "outputs": [],
   "source": [
    "import pandas as pd\n",
    "import numpy as np"
   ]
  },
  {
   "cell_type": "code",
   "execution_count": 2,
   "metadata": {},
   "outputs": [],
   "source": [
    "dataset = pd.read_csv(r\"C:\\Users\\hp\\Desktop\\DDH 2020\\clinicaltrialsSorted.csv\", engine = 'python')"
   ]
  },
  {
   "cell_type": "code",
   "execution_count": 3,
   "metadata": {},
   "outputs": [],
   "source": [
    "for j in dataset.columns:\n",
    "    dataset[j] = dataset[j].str.split(\"[\").str[1].str.split(\"]\").str[0]"
   ]
  },
  {
   "cell_type": "code",
   "execution_count": 4,
   "metadata": {},
   "outputs": [],
   "source": [
    "dataset = dataset.replace('', np.nan, regex=True)"
   ]
  },
  {
   "cell_type": "code",
   "execution_count": 5,
   "metadata": {},
   "outputs": [
    {
     "name": "stdout",
     "output_type": "stream",
     "text": [
      "CompletionDate                        0\n",
      "EligibilityCriteria                   0\n",
      "EnrollmentCount                       0\n",
      "EnrollmentType                        0\n",
      "Gender                                0\n",
      "HealthyVolunteers                     0\n",
      "InterventionAncestorTerm           1216\n",
      "InterventionBrowseBranchName        794\n",
      "InterventionBrowseLeafName          794\n",
      "InterventionBrowseLeafRelevance     794\n",
      "InterventionMeshTerm               1212\n",
      "InterventionType                      0\n",
      "IsFDARegulatedDrug                    4\n",
      "Keyword                             817\n",
      "MaximumAge                         1284\n",
      "MinimumAge                           81\n",
      "NCTId                                 0\n",
      "OverallStatus                         0\n",
      "OversightHasDMC                     253\n",
      "Phase                                 0\n",
      "PrimaryOutcomeMeasure                 0\n",
      "dtype: int64\n"
     ]
    }
   ],
   "source": [
    "print(dataset.isnull().sum())"
   ]
  },
  {
   "cell_type": "code",
   "execution_count": 6,
   "metadata": {},
   "outputs": [],
   "source": [
    "dataset = dataset.drop(columns=['InterventionAncestorTerm','InterventionBrowseBranchName','InterventionBrowseLeafName','InterventionBrowseLeafRelevance','InterventionMeshTerm','InterventionType','Keyword','MaximumAge','MinimumAge','NCTId','PrimaryOutcomeMeasure','Gender','EligibilityCriteria'])"
   ]
  },
  {
   "cell_type": "code",
   "execution_count": 7,
   "metadata": {},
   "outputs": [
    {
     "data": {
      "text/html": [
       "<div>\n",
       "<style scoped>\n",
       "    .dataframe tbody tr th:only-of-type {\n",
       "        vertical-align: middle;\n",
       "    }\n",
       "\n",
       "    .dataframe tbody tr th {\n",
       "        vertical-align: top;\n",
       "    }\n",
       "\n",
       "    .dataframe thead th {\n",
       "        text-align: right;\n",
       "    }\n",
       "</style>\n",
       "<table border=\"1\" class=\"dataframe\">\n",
       "  <thead>\n",
       "    <tr style=\"text-align: right;\">\n",
       "      <th></th>\n",
       "      <th>CompletionDate</th>\n",
       "      <th>EnrollmentCount</th>\n",
       "      <th>EnrollmentType</th>\n",
       "      <th>HealthyVolunteers</th>\n",
       "      <th>IsFDARegulatedDrug</th>\n",
       "      <th>OverallStatus</th>\n",
       "      <th>OversightHasDMC</th>\n",
       "      <th>Phase</th>\n",
       "    </tr>\n",
       "  </thead>\n",
       "  <tbody>\n",
       "    <tr>\n",
       "      <th>0</th>\n",
       "      <td>'June 2022'</td>\n",
       "      <td>'200'</td>\n",
       "      <td>'Anticipated'</td>\n",
       "      <td>'Accepts Healthy Volunteers'</td>\n",
       "      <td>'No'</td>\n",
       "      <td>'Not yet recruiting'</td>\n",
       "      <td>'No'</td>\n",
       "      <td>'Not Applicable'</td>\n",
       "    </tr>\n",
       "    <tr>\n",
       "      <th>1</th>\n",
       "      <td>'November 8, 2020'</td>\n",
       "      <td>'20'</td>\n",
       "      <td>'Anticipated'</td>\n",
       "      <td>'No'</td>\n",
       "      <td>'Yes'</td>\n",
       "      <td>'Active, not recruiting'</td>\n",
       "      <td>'Yes'</td>\n",
       "      <td>'Early Phase 1'</td>\n",
       "    </tr>\n",
       "    <tr>\n",
       "      <th>2</th>\n",
       "      <td>'June 2021'</td>\n",
       "      <td>'100'</td>\n",
       "      <td>'Anticipated'</td>\n",
       "      <td>'No'</td>\n",
       "      <td>'Yes'</td>\n",
       "      <td>'Recruiting'</td>\n",
       "      <td>'No'</td>\n",
       "      <td>'Phase 1'</td>\n",
       "    </tr>\n",
       "    <tr>\n",
       "      <th>3</th>\n",
       "      <td>'October 2021'</td>\n",
       "      <td>'90'</td>\n",
       "      <td>'Anticipated'</td>\n",
       "      <td>'Accepts Healthy Volunteers'</td>\n",
       "      <td>'No'</td>\n",
       "      <td>'Recruiting'</td>\n",
       "      <td>'Yes'</td>\n",
       "      <td>'Phase 1'</td>\n",
       "    </tr>\n",
       "    <tr>\n",
       "      <th>4</th>\n",
       "      <td>'July 14, 2020'</td>\n",
       "      <td>'146'</td>\n",
       "      <td>'Actual'</td>\n",
       "      <td>'No'</td>\n",
       "      <td>'No'</td>\n",
       "      <td>'Completed'</td>\n",
       "      <td>'Yes'</td>\n",
       "      <td>'Phase 1', 'Phase 2'</td>\n",
       "    </tr>\n",
       "    <tr>\n",
       "      <th>...</th>\n",
       "      <td>...</td>\n",
       "      <td>...</td>\n",
       "      <td>...</td>\n",
       "      <td>...</td>\n",
       "      <td>...</td>\n",
       "      <td>...</td>\n",
       "      <td>...</td>\n",
       "      <td>...</td>\n",
       "    </tr>\n",
       "    <tr>\n",
       "      <th>2020</th>\n",
       "      <td>'June 30, 2023'</td>\n",
       "      <td>'3200'</td>\n",
       "      <td>'Anticipated'</td>\n",
       "      <td>'Accepts Healthy Volunteers'</td>\n",
       "      <td>'No'</td>\n",
       "      <td>'Recruiting'</td>\n",
       "      <td>'No'</td>\n",
       "      <td>'Not Applicable'</td>\n",
       "    </tr>\n",
       "    <tr>\n",
       "      <th>2021</th>\n",
       "      <td>'April 2026'</td>\n",
       "      <td>'28'</td>\n",
       "      <td>'Anticipated'</td>\n",
       "      <td>'No'</td>\n",
       "      <td>'No'</td>\n",
       "      <td>'Recruiting'</td>\n",
       "      <td>'No'</td>\n",
       "      <td>'Phase 1'</td>\n",
       "    </tr>\n",
       "    <tr>\n",
       "      <th>2022</th>\n",
       "      <td>'December 2024'</td>\n",
       "      <td>'400'</td>\n",
       "      <td>'Anticipated'</td>\n",
       "      <td>'Accepts Healthy Volunteers'</td>\n",
       "      <td>'No'</td>\n",
       "      <td>'Recruiting'</td>\n",
       "      <td>'No'</td>\n",
       "      <td>'Not Applicable'</td>\n",
       "    </tr>\n",
       "    <tr>\n",
       "      <th>2023</th>\n",
       "      <td>'April 8, 2022'</td>\n",
       "      <td>'112'</td>\n",
       "      <td>'Anticipated'</td>\n",
       "      <td>'No'</td>\n",
       "      <td>'No'</td>\n",
       "      <td>'Recruiting'</td>\n",
       "      <td>'Yes'</td>\n",
       "      <td>'Not Applicable'</td>\n",
       "    </tr>\n",
       "    <tr>\n",
       "      <th>2024</th>\n",
       "      <td>'November 30, 2022'</td>\n",
       "      <td>'44'</td>\n",
       "      <td>'Anticipated'</td>\n",
       "      <td>'No'</td>\n",
       "      <td>'No'</td>\n",
       "      <td>'Recruiting'</td>\n",
       "      <td>'No'</td>\n",
       "      <td>'Not Applicable'</td>\n",
       "    </tr>\n",
       "  </tbody>\n",
       "</table>\n",
       "<p>2025 rows × 8 columns</p>\n",
       "</div>"
      ],
      "text/plain": [
       "           CompletionDate EnrollmentCount EnrollmentType  \\\n",
       "0             'June 2022'           '200'  'Anticipated'   \n",
       "1      'November 8, 2020'            '20'  'Anticipated'   \n",
       "2             'June 2021'           '100'  'Anticipated'   \n",
       "3          'October 2021'            '90'  'Anticipated'   \n",
       "4         'July 14, 2020'           '146'       'Actual'   \n",
       "...                   ...             ...            ...   \n",
       "2020      'June 30, 2023'          '3200'  'Anticipated'   \n",
       "2021         'April 2026'            '28'  'Anticipated'   \n",
       "2022      'December 2024'           '400'  'Anticipated'   \n",
       "2023      'April 8, 2022'           '112'  'Anticipated'   \n",
       "2024  'November 30, 2022'            '44'  'Anticipated'   \n",
       "\n",
       "                 HealthyVolunteers IsFDARegulatedDrug  \\\n",
       "0     'Accepts Healthy Volunteers'               'No'   \n",
       "1                             'No'              'Yes'   \n",
       "2                             'No'              'Yes'   \n",
       "3     'Accepts Healthy Volunteers'               'No'   \n",
       "4                             'No'               'No'   \n",
       "...                            ...                ...   \n",
       "2020  'Accepts Healthy Volunteers'               'No'   \n",
       "2021                          'No'               'No'   \n",
       "2022  'Accepts Healthy Volunteers'               'No'   \n",
       "2023                          'No'               'No'   \n",
       "2024                          'No'               'No'   \n",
       "\n",
       "                 OverallStatus OversightHasDMC                 Phase  \n",
       "0         'Not yet recruiting'            'No'      'Not Applicable'  \n",
       "1     'Active, not recruiting'           'Yes'       'Early Phase 1'  \n",
       "2                 'Recruiting'            'No'             'Phase 1'  \n",
       "3                 'Recruiting'           'Yes'             'Phase 1'  \n",
       "4                  'Completed'           'Yes'  'Phase 1', 'Phase 2'  \n",
       "...                        ...             ...                   ...  \n",
       "2020              'Recruiting'            'No'      'Not Applicable'  \n",
       "2021              'Recruiting'            'No'             'Phase 1'  \n",
       "2022              'Recruiting'            'No'      'Not Applicable'  \n",
       "2023              'Recruiting'           'Yes'      'Not Applicable'  \n",
       "2024              'Recruiting'            'No'      'Not Applicable'  \n",
       "\n",
       "[2025 rows x 8 columns]"
      ]
     },
     "execution_count": 7,
     "metadata": {},
     "output_type": "execute_result"
    }
   ],
   "source": [
    "dataset"
   ]
  },
  {
   "cell_type": "code",
   "execution_count": 8,
   "metadata": {},
   "outputs": [
    {
     "data": {
      "text/plain": [
       "'Yes'    1044\n",
       "'No'      728\n",
       "Name: OversightHasDMC, dtype: int64"
      ]
     },
     "execution_count": 8,
     "metadata": {},
     "output_type": "execute_result"
    }
   ],
   "source": [
    "dataset['OversightHasDMC'].value_counts()"
   ]
  },
  {
   "cell_type": "code",
   "execution_count": 28,
   "metadata": {},
   "outputs": [
    {
     "data": {
      "text/plain": [
       "0    1498\n",
       "1     527\n",
       "Name: IsFDARegulatedDrug, dtype: int64"
      ]
     },
     "execution_count": 28,
     "metadata": {},
     "output_type": "execute_result"
    }
   ],
   "source": [
    "dataset['IsFDARegulatedDrug'].value_counts()"
   ]
  },
  {
   "cell_type": "code",
   "execution_count": 10,
   "metadata": {},
   "outputs": [],
   "source": [
    "dataset['OversightHasDMC'] = dataset['OversightHasDMC'].fillna(dataset['OversightHasDMC'].value_counts().index[0])"
   ]
  },
  {
   "cell_type": "code",
   "execution_count": 29,
   "metadata": {},
   "outputs": [
    {
     "name": "stdout",
     "output_type": "stream",
     "text": [
      "CompletionDate        0\n",
      "EnrollmentCount       0\n",
      "EnrollmentType        0\n",
      "HealthyVolunteers     0\n",
      "IsFDARegulatedDrug    0\n",
      "OverallStatus         0\n",
      "OversightHasDMC       0\n",
      "Phase                 0\n",
      "year                  0\n",
      "dtype: int64\n"
     ]
    }
   ],
   "source": [
    "print(dataset.isnull().sum())"
   ]
  },
  {
   "cell_type": "code",
   "execution_count": 12,
   "metadata": {},
   "outputs": [],
   "source": [
    "dataset['IsFDARegulatedDrug'] = dataset['IsFDARegulatedDrug'].fillna(dataset['IsFDARegulatedDrug'].value_counts().index[0])"
   ]
  },
  {
   "cell_type": "code",
   "execution_count": 13,
   "metadata": {},
   "outputs": [
    {
     "name": "stdout",
     "output_type": "stream",
     "text": [
      "CompletionDate        0\n",
      "EnrollmentCount       0\n",
      "EnrollmentType        0\n",
      "HealthyVolunteers     0\n",
      "IsFDARegulatedDrug    0\n",
      "OverallStatus         0\n",
      "OversightHasDMC       0\n",
      "Phase                 0\n",
      "dtype: int64\n"
     ]
    }
   ],
   "source": [
    "print(dataset.isnull().sum())"
   ]
  },
  {
   "cell_type": "code",
   "execution_count": 14,
   "metadata": {},
   "outputs": [],
   "source": [
    "dataset['EnrollmentType'] = dataset['EnrollmentType'].astype('category')\n",
    "dataset['EnrollmentType'] = dataset['EnrollmentType'].cat.codes"
   ]
  },
  {
   "cell_type": "code",
   "execution_count": 15,
   "metadata": {},
   "outputs": [],
   "source": [
    "dataset['HealthyVolunteers'] = dataset['HealthyVolunteers'].astype('category')\n",
    "dataset['HealthyVolunteers'] = dataset['HealthyVolunteers'].cat.codes"
   ]
  },
  {
   "cell_type": "code",
   "execution_count": 16,
   "metadata": {},
   "outputs": [],
   "source": [
    "dataset['IsFDARegulatedDrug'] = dataset['IsFDARegulatedDrug'].astype('category')\n",
    "dataset['IsFDARegulatedDrug'] = dataset['IsFDARegulatedDrug'].cat.codes"
   ]
  },
  {
   "cell_type": "code",
   "execution_count": 17,
   "metadata": {},
   "outputs": [],
   "source": [
    "dataset['OverallStatus'] = dataset['OverallStatus'].astype('category')\n",
    "dataset['OverallStatus'] = dataset['OverallStatus'].cat.codes"
   ]
  },
  {
   "cell_type": "code",
   "execution_count": 18,
   "metadata": {},
   "outputs": [],
   "source": [
    "dataset['OversightHasDMC'] = dataset['OversightHasDMC'].astype('category')\n",
    "dataset['OversightHasDMC'] = dataset['OversightHasDMC'].cat.codes"
   ]
  },
  {
   "cell_type": "code",
   "execution_count": 19,
   "metadata": {},
   "outputs": [],
   "source": [
    "dataset['Phase'] = dataset['Phase'].astype('category')\n",
    "dataset['Phase'] = dataset['Phase'].cat.codes"
   ]
  },
  {
   "cell_type": "code",
   "execution_count": 20,
   "metadata": {},
   "outputs": [],
   "source": [
    "dataset['CompletionDate'] = pd.to_datetime(dataset['CompletionDate'])"
   ]
  },
  {
   "cell_type": "code",
   "execution_count": 21,
   "metadata": {},
   "outputs": [],
   "source": [
    "dataset['year'] = dataset['CompletionDate'].dt.year"
   ]
  },
  {
   "cell_type": "code",
   "execution_count": 22,
   "metadata": {},
   "outputs": [],
   "source": [
    "dataset['EnrollmentCount'] = dataset['EnrollmentCount'].astype(str).apply(lambda x: x.replace(\"'\",\"\").replace(\"'\",\"\")).astype(int)"
   ]
  },
  {
   "cell_type": "code",
   "execution_count": 23,
   "metadata": {},
   "outputs": [
    {
     "data": {
      "text/html": [
       "<div>\n",
       "<style scoped>\n",
       "    .dataframe tbody tr th:only-of-type {\n",
       "        vertical-align: middle;\n",
       "    }\n",
       "\n",
       "    .dataframe tbody tr th {\n",
       "        vertical-align: top;\n",
       "    }\n",
       "\n",
       "    .dataframe thead th {\n",
       "        text-align: right;\n",
       "    }\n",
       "</style>\n",
       "<table border=\"1\" class=\"dataframe\">\n",
       "  <thead>\n",
       "    <tr style=\"text-align: right;\">\n",
       "      <th></th>\n",
       "      <th>CompletionDate</th>\n",
       "      <th>EnrollmentCount</th>\n",
       "      <th>EnrollmentType</th>\n",
       "      <th>HealthyVolunteers</th>\n",
       "      <th>IsFDARegulatedDrug</th>\n",
       "      <th>OverallStatus</th>\n",
       "      <th>OversightHasDMC</th>\n",
       "      <th>Phase</th>\n",
       "      <th>year</th>\n",
       "    </tr>\n",
       "  </thead>\n",
       "  <tbody>\n",
       "    <tr>\n",
       "      <th>0</th>\n",
       "      <td>2022-06-01</td>\n",
       "      <td>200</td>\n",
       "      <td>1</td>\n",
       "      <td>0</td>\n",
       "      <td>0</td>\n",
       "      <td>3</td>\n",
       "      <td>0</td>\n",
       "      <td>1</td>\n",
       "      <td>2022</td>\n",
       "    </tr>\n",
       "    <tr>\n",
       "      <th>1</th>\n",
       "      <td>2020-11-08</td>\n",
       "      <td>20</td>\n",
       "      <td>1</td>\n",
       "      <td>1</td>\n",
       "      <td>1</td>\n",
       "      <td>0</td>\n",
       "      <td>1</td>\n",
       "      <td>0</td>\n",
       "      <td>2020</td>\n",
       "    </tr>\n",
       "    <tr>\n",
       "      <th>2</th>\n",
       "      <td>2021-06-01</td>\n",
       "      <td>100</td>\n",
       "      <td>1</td>\n",
       "      <td>1</td>\n",
       "      <td>1</td>\n",
       "      <td>4</td>\n",
       "      <td>0</td>\n",
       "      <td>2</td>\n",
       "      <td>2021</td>\n",
       "    </tr>\n",
       "    <tr>\n",
       "      <th>3</th>\n",
       "      <td>2021-10-01</td>\n",
       "      <td>90</td>\n",
       "      <td>1</td>\n",
       "      <td>0</td>\n",
       "      <td>0</td>\n",
       "      <td>4</td>\n",
       "      <td>1</td>\n",
       "      <td>2</td>\n",
       "      <td>2021</td>\n",
       "    </tr>\n",
       "    <tr>\n",
       "      <th>4</th>\n",
       "      <td>2020-07-14</td>\n",
       "      <td>146</td>\n",
       "      <td>0</td>\n",
       "      <td>1</td>\n",
       "      <td>0</td>\n",
       "      <td>1</td>\n",
       "      <td>1</td>\n",
       "      <td>3</td>\n",
       "      <td>2020</td>\n",
       "    </tr>\n",
       "    <tr>\n",
       "      <th>...</th>\n",
       "      <td>...</td>\n",
       "      <td>...</td>\n",
       "      <td>...</td>\n",
       "      <td>...</td>\n",
       "      <td>...</td>\n",
       "      <td>...</td>\n",
       "      <td>...</td>\n",
       "      <td>...</td>\n",
       "      <td>...</td>\n",
       "    </tr>\n",
       "    <tr>\n",
       "      <th>2020</th>\n",
       "      <td>2023-06-30</td>\n",
       "      <td>3200</td>\n",
       "      <td>1</td>\n",
       "      <td>0</td>\n",
       "      <td>0</td>\n",
       "      <td>4</td>\n",
       "      <td>0</td>\n",
       "      <td>1</td>\n",
       "      <td>2023</td>\n",
       "    </tr>\n",
       "    <tr>\n",
       "      <th>2021</th>\n",
       "      <td>2026-04-01</td>\n",
       "      <td>28</td>\n",
       "      <td>1</td>\n",
       "      <td>1</td>\n",
       "      <td>0</td>\n",
       "      <td>4</td>\n",
       "      <td>0</td>\n",
       "      <td>2</td>\n",
       "      <td>2026</td>\n",
       "    </tr>\n",
       "    <tr>\n",
       "      <th>2022</th>\n",
       "      <td>2024-12-01</td>\n",
       "      <td>400</td>\n",
       "      <td>1</td>\n",
       "      <td>0</td>\n",
       "      <td>0</td>\n",
       "      <td>4</td>\n",
       "      <td>0</td>\n",
       "      <td>1</td>\n",
       "      <td>2024</td>\n",
       "    </tr>\n",
       "    <tr>\n",
       "      <th>2023</th>\n",
       "      <td>2022-04-08</td>\n",
       "      <td>112</td>\n",
       "      <td>1</td>\n",
       "      <td>1</td>\n",
       "      <td>0</td>\n",
       "      <td>4</td>\n",
       "      <td>1</td>\n",
       "      <td>1</td>\n",
       "      <td>2022</td>\n",
       "    </tr>\n",
       "    <tr>\n",
       "      <th>2024</th>\n",
       "      <td>2022-11-30</td>\n",
       "      <td>44</td>\n",
       "      <td>1</td>\n",
       "      <td>1</td>\n",
       "      <td>0</td>\n",
       "      <td>4</td>\n",
       "      <td>0</td>\n",
       "      <td>1</td>\n",
       "      <td>2022</td>\n",
       "    </tr>\n",
       "  </tbody>\n",
       "</table>\n",
       "<p>2025 rows × 9 columns</p>\n",
       "</div>"
      ],
      "text/plain": [
       "     CompletionDate  EnrollmentCount  EnrollmentType  HealthyVolunteers  \\\n",
       "0        2022-06-01              200               1                  0   \n",
       "1        2020-11-08               20               1                  1   \n",
       "2        2021-06-01              100               1                  1   \n",
       "3        2021-10-01               90               1                  0   \n",
       "4        2020-07-14              146               0                  1   \n",
       "...             ...              ...             ...                ...   \n",
       "2020     2023-06-30             3200               1                  0   \n",
       "2021     2026-04-01               28               1                  1   \n",
       "2022     2024-12-01              400               1                  0   \n",
       "2023     2022-04-08              112               1                  1   \n",
       "2024     2022-11-30               44               1                  1   \n",
       "\n",
       "      IsFDARegulatedDrug  OverallStatus  OversightHasDMC  Phase  year  \n",
       "0                      0              3                0      1  2022  \n",
       "1                      1              0                1      0  2020  \n",
       "2                      1              4                0      2  2021  \n",
       "3                      0              4                1      2  2021  \n",
       "4                      0              1                1      3  2020  \n",
       "...                  ...            ...              ...    ...   ...  \n",
       "2020                   0              4                0      1  2023  \n",
       "2021                   0              4                0      2  2026  \n",
       "2022                   0              4                0      1  2024  \n",
       "2023                   0              4                1      1  2022  \n",
       "2024                   0              4                0      1  2022  \n",
       "\n",
       "[2025 rows x 9 columns]"
      ]
     },
     "execution_count": 23,
     "metadata": {},
     "output_type": "execute_result"
    }
   ],
   "source": [
    "dataset"
   ]
  },
  {
   "cell_type": "markdown",
   "metadata": {},
   "source": [
    "## ML model : RandomForestClassifier"
   ]
  },
  {
   "cell_type": "code",
   "execution_count": 24,
   "metadata": {},
   "outputs": [],
   "source": [
    "from sklearn.model_selection import train_test_split\n",
    "X=dataset[['EnrollmentCount','EnrollmentType','HealthyVolunteers','IsFDARegulatedDrug','OverallStatus','OversightHasDMC','year']]\n",
    "y=dataset['Phase']"
   ]
  },
  {
   "cell_type": "code",
   "execution_count": 25,
   "metadata": {},
   "outputs": [],
   "source": [
    "X_train, X_test, y_train, y_test = train_test_split(X, y, test_size=0.3)"
   ]
  },
  {
   "cell_type": "code",
   "execution_count": 26,
   "metadata": {},
   "outputs": [],
   "source": [
    "from sklearn.ensemble import RandomForestClassifier\n",
    "clf=RandomForestClassifier(n_estimators=100)\n",
    "clf.fit(X_train,y_train)\n",
    "\n",
    "y_pred=clf.predict(X_test)"
   ]
  },
  {
   "cell_type": "code",
   "execution_count": 27,
   "metadata": {},
   "outputs": [
    {
     "name": "stdout",
     "output_type": "stream",
     "text": [
      "Accuracy: 0.43256578947368424\n"
     ]
    }
   ],
   "source": [
    "from sklearn import metrics\n",
    "# Model Accuracy, how often is the classifier correct?\n",
    "print(\"Accuracy:\",metrics.accuracy_score(y_test, y_pred))"
   ]
  },
  {
   "cell_type": "code",
   "execution_count": null,
   "metadata": {},
   "outputs": [],
   "source": []
  }
 ],
 "metadata": {
  "kernelspec": {
   "display_name": "Python 3",
   "language": "python",
   "name": "python3"
  },
  "language_info": {
   "codemirror_mode": {
    "name": "ipython",
    "version": 3
   },
   "file_extension": ".py",
   "mimetype": "text/x-python",
   "name": "python",
   "nbconvert_exporter": "python",
   "pygments_lexer": "ipython3",
   "version": "3.8.6"
  }
 },
 "nbformat": 4,
 "nbformat_minor": 4
}
